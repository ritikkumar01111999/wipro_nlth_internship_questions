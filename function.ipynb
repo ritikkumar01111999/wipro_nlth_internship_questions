{
  "nbformat": 4,
  "nbformat_minor": 0,
  "metadata": {
    "colab": {
      "name": "function.ipynb",
      "provenance": [],
      "authorship_tag": "ABX9TyN/BZ/Fic7zmtd1Wkcxn54L",
      "include_colab_link": true
    },
    "kernelspec": {
      "name": "python3",
      "display_name": "Python 3"
    },
    "language_info": {
      "name": "python"
    }
  },
  "cells": [
    {
      "cell_type": "markdown",
      "metadata": {
        "id": "view-in-github",
        "colab_type": "text"
      },
      "source": [
        "<a href=\"https://colab.research.google.com/github/ritikkumar01111999/wipro_nlth_internship_questions/blob/main/function.ipynb\" target=\"_parent\"><img src=\"https://colab.research.google.com/assets/colab-badge.svg\" alt=\"Open In Colab\"/></a>"
      ]
    },
    {
      "cell_type": "code",
      "execution_count": null,
      "metadata": {
        "colab": {
          "base_uri": "https://localhost:8080/"
        },
        "id": "awXEWIEDiGLX",
        "outputId": "d5717e21-3542-40f2-f96f-8298262bdd55"
      },
      "outputs": [
        {
          "output_type": "stream",
          "name": "stdout",
          "text": [
            "20\n"
          ]
        }
      ],
      "source": [
        "#write a program to return sum of all the numbers in the string\n",
        "\n",
        "def sum_of_all_numbers(a):\n",
        "  sum=0\n",
        "  for i in a:\n",
        "    sum=sum+i\n",
        "  return sum\n",
        "\n",
        "if __name__=='__main__':\n",
        "  a=[8,2,3,0,7]\n",
        "  function=sum_of_all_numbers(a)\n",
        "  print(function)"
      ]
    },
    {
      "cell_type": "code",
      "source": [
        "#write a function to return the revese of the string\n",
        "def reverse_the_string(a):\n",
        "  print(\"before reversing:-\",a)\n",
        "  b=\"\\nafter reversing:-\"\n",
        "  c=a[::-1]\n",
        "  return b,c\n",
        "\n",
        "if __name__=='__main__':\n",
        "  a=\"123abcd\"\n",
        "  print(reverse_the_string(a))"
      ],
      "metadata": {
        "colab": {
          "base_uri": "https://localhost:8080/"
        },
        "id": "umpCMrmQlQs3",
        "outputId": "95e37df9-ea10-4975-9745-729c2cd0a7e5"
      },
      "execution_count": null,
      "outputs": [
        {
          "output_type": "stream",
          "name": "stdout",
          "text": [
            "before reversing:- 123abcd\n",
            "('\\nafter reversing:-', 'dcba321')\n"
          ]
        }
      ]
    },
    {
      "cell_type": "code",
      "source": [
        "#write a function to return thre factorial of a number(a non-negative number)\n",
        "def factorial(n):   \n",
        "    if n == 0:\n",
        "        return 1    \n",
        "    return n * factorial(n-1)\n",
        "  \n",
        "\n",
        "num = 5;\n",
        "print(\"Factorial of\", num, \"is\",\n",
        "factorial(num))"
      ],
      "metadata": {
        "colab": {
          "base_uri": "https://localhost:8080/"
        },
        "id": "xSlBYO6ymqRa",
        "outputId": "fe0350dc-f0d4-404f-eb44-05bd9644bf00"
      },
      "execution_count": null,
      "outputs": [
        {
          "output_type": "stream",
          "name": "stdout",
          "text": [
            "Factorial of 5 is 120\n"
          ]
        }
      ]
    },
    {
      "cell_type": "code",
      "source": [
        "#write a function that accepts a string and prints the number of upper and lower case letter in it.\n",
        "def check_for_uppercase_and_lowercase(a):\n",
        "  upper=0\n",
        "  lower=0\n",
        "  for i in a:\n",
        "        if(i.islower()):\n",
        "              upper=upper+1\n",
        "        elif(i.isupper()):\n",
        "          lower=lower+1\n",
        "  print('uppercase letters are:-',upper,'\\nlowercase letters are:-',lower)\n",
        "\n",
        "if __name__=='__main__':\n",
        "  a=\"Hello how are you.Hope you are doing well\"\n",
        "  print(check_for_uppercase_and_lowercase(a))"
      ],
      "metadata": {
        "colab": {
          "base_uri": "https://localhost:8080/"
        },
        "id": "YhhS69_3n8zT",
        "outputId": "9325c615-0aad-4d84-d85a-88026225baf6"
      },
      "execution_count": null,
      "outputs": [
        {
          "output_type": "stream",
          "name": "stdout",
          "text": [
            "uppercase letters are:- 31 \n",
            "lowercase letters are:- 2\n",
            "None\n"
          ]
        }
      ]
    },
    {
      "cell_type": "code",
      "source": [
        "#write a function to print even number from a givern list.\n",
        "def check_for_even_odd(a):\n",
        "  even=[]\n",
        "  odd=[]\n",
        "  for i in a:\n",
        "    if i%2==0:\n",
        "      even.append(i)\n",
        "    else:\n",
        "      odd.append(i)\n",
        "  print('the even numbers in the list are:-',even,'\\nthe odd numbers in the list are:-',odd)\n",
        "\n",
        "if __name__=='__main__':\n",
        "  a=[1,2,3,4,5,6,7,8,9,10]\n",
        "  check_for_even_odd(a)"
      ],
      "metadata": {
        "colab": {
          "base_uri": "https://localhost:8080/"
        },
        "id": "_XYbyHQrqVvK",
        "outputId": "254f622e-5bd6-4225-eaab-6ea8123ca434"
      },
      "execution_count": null,
      "outputs": [
        {
          "output_type": "stream",
          "name": "stdout",
          "text": [
            "the even numbers in the list are:- [2, 4, 6, 8, 10] \n",
            "the odd numbers in the list are:- [1, 3, 5, 7, 9]\n"
          ]
        }
      ]
    },
    {
      "cell_type": "code",
      "source": [
        "#write a function which takes a number into parameter and checks weather it is prime or not.\n",
        "\n",
        "def check_for_prime(num):\n",
        "  if num > 1:\n",
        "      for i in range(2, int(num/2)+1):\n",
        "          if (num % i) == 0:\n",
        "              print(num, \"is not a prime number\")\n",
        "              break\n",
        "      else:\n",
        "          print(num, \"is a prime number\")   \n",
        "  else:\n",
        "      print(num, \"is not a prime number\")\n",
        "\n",
        "\n",
        "if __name__=='__main__':\n",
        "  num=11\n",
        "  check_for_prime(num)"
      ],
      "metadata": {
        "colab": {
          "base_uri": "https://localhost:8080/"
        },
        "id": "XLk5zvq4q8Mf",
        "outputId": "f037a4be-b480-4c5b-fe4e-65d3e5db2e7e"
      },
      "execution_count": null,
      "outputs": [
        {
          "output_type": "stream",
          "name": "stdout",
          "text": [
            "11 is a prime number\n"
          ]
        }
      ]
    },
    {
      "cell_type": "code",
      "source": [
        ""
      ],
      "metadata": {
        "id": "I0TSU-COsuRV"
      },
      "execution_count": null,
      "outputs": []
    }
  ]
}