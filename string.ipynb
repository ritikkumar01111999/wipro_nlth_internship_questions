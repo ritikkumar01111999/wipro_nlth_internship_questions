{
  "nbformat": 4,
  "nbformat_minor": 0,
  "metadata": {
    "colab": {
      "name": "string.ipynb",
      "provenance": [],
      "authorship_tag": "ABX9TyOjiJCACtqmGJtnBdxQrbxt",
      "include_colab_link": true
    },
    "kernelspec": {
      "name": "python3",
      "display_name": "Python 3"
    },
    "language_info": {
      "name": "python"
    }
  },
  "cells": [
    {
      "cell_type": "markdown",
      "metadata": {
        "id": "view-in-github",
        "colab_type": "text"
      },
      "source": [
        "<a href=\"https://colab.research.google.com/github/ritikkumar01111999/wipro_nlth_internship_questions/blob/main/string.ipynb\" target=\"_parent\"><img src=\"https://colab.research.google.com/assets/colab-badge.svg\" alt=\"Open In Colab\"/></a>"
      ]
    },
    {
      "cell_type": "code",
      "execution_count": null,
      "metadata": {
        "id": "wQHJDZv_cd3E",
        "colab": {
          "base_uri": "https://localhost:8080/"
        },
        "outputId": "857e7074-dbed-4d4a-e1fe-7643f61b9bab"
      },
      "outputs": [
        {
          "output_type": "stream",
          "name": "stdout",
          "text": [
            "Lower case characters = 131 Upper case characters = 1\n"
          ]
        }
      ],
      "source": [
        "#write  a program to count number of upper and lower case letters in the strings\n",
        "\n",
        "# Python3 program to count upper and\n",
        "# lower case characters without using\n",
        "# inbuilt functions\n",
        "def upperlower(string):\n",
        "  \n",
        "    upper = 0\n",
        "    lower = 0\n",
        "  \n",
        "    for i in range(len(string)):\n",
        "          \n",
        "        # For lower letters\n",
        "        if (ord(string[i]) >= 97 and\n",
        "            ord(string[i]) <= 122):\n",
        "            lower += 1\n",
        "  \n",
        "        # For upper letters\n",
        "        elif (ord(string[i]) >= 65 and\n",
        "              ord(string[i]) <= 90):\n",
        "            upper += 1\n",
        "  \n",
        "    print('Lower case characters = %s' %lower,\n",
        "          'Upper case characters = %s' %upper)\n",
        "  \n",
        "# Driver Code\n",
        "string = 'A noun is a word that functions as the name of a specific object or set of objects, such as living creatures, places, actions, qualities, states of existence, or ideas. '\n",
        "upperlower(string)"
      ]
    },
    {
      "cell_type": "code",
      "source": [
        "# write a program that will check weather given string palindrome or not\n",
        "\n",
        "# function which return reverse of a string\n",
        " \n",
        "def isPalindrome(s):\n",
        "    return s == s[::-1]\n",
        " \n",
        " \n",
        "# Driver code\n",
        "s = \"abbbba\"\n",
        "ans = isPalindrome(s)\n",
        " \n",
        "if ans:\n",
        "    print(\"Yes\")\n",
        "else:\n",
        "    print(\"No\")"
      ],
      "metadata": {
        "colab": {
          "base_uri": "https://localhost:8080/"
        },
        "id": "BGiHLtMoZA4x",
        "outputId": "5351c060-7bd4-4afb-d4aa-b3cd4ce2e22b"
      },
      "execution_count": null,
      "outputs": [
        {
          "output_type": "stream",
          "name": "stdout",
          "text": [
            "Yes\n"
          ]
        }
      ]
    },
    {
      "cell_type": "code",
      "source": [
        "#given a string , return a new string made of n copies ofthe first 2 char of original string.....\n",
        "a='wipro'\n",
        "b=len(a)\n",
        "a=a[0:2]\n",
        "print('the desired output is:-',a*b)"
      ],
      "metadata": {
        "colab": {
          "base_uri": "https://localhost:8080/"
        },
        "id": "QTAyKybnZuxP",
        "outputId": "ff8c0b50-d329-4fe9-df4b-63b8c9f9901f"
      },
      "execution_count": null,
      "outputs": [
        {
          "output_type": "stream",
          "name": "stdout",
          "text": [
            "the desired output is:- wiwiwiwiwi\n"
          ]
        }
      ]
    },
    {
      "cell_type": "code",
      "source": [
        "#given a string and an integer n, return a string made of n last n charecters of the string.\n",
        "a='wipro'\n",
        "b=len(a)\n",
        "a=a[-2:]\n",
        "print('the desired output is:-',a*b)"
      ],
      "metadata": {
        "colab": {
          "base_uri": "https://localhost:8080/"
        },
        "id": "sqrkwR71cB0k",
        "outputId": "7b8f36b7-829b-4f08-db25-6affde1c9272"
      },
      "execution_count": null,
      "outputs": [
        {
          "output_type": "stream",
          "name": "stdout",
          "text": [
            "the desired output is:- rororororo\n"
          ]
        }
      ]
    },
    {
      "cell_type": "code",
      "source": [
        "#given a string, if the first or last charecter is x , return the string without those x.\n",
        "a='xHix'\n",
        "if a[0] and a[-1] is 'x':\n",
        "  print(a[1:-1])\n"
      ],
      "metadata": {
        "colab": {
          "base_uri": "https://localhost:8080/"
        },
        "id": "25a2HDaLcK_9",
        "outputId": "b085ec4b-4254-4372-c55a-4bc3f650d7f6"
      },
      "execution_count": null,
      "outputs": [
        {
          "output_type": "stream",
          "name": "stdout",
          "text": [
            "Hi\n"
          ]
        }
      ]
    },
    {
      "cell_type": "code",
      "source": [
        ""
      ],
      "metadata": {
        "id": "wiPBw2rxc8r4"
      },
      "execution_count": null,
      "outputs": []
    }
  ]
}