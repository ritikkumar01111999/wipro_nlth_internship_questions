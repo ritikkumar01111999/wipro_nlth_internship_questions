{
  "nbformat": 4,
  "nbformat_minor": 0,
  "metadata": {
    "colab": {
      "name": "odd_even.ipynb",
      "provenance": [],
      "collapsed_sections": [],
      "authorship_tag": "ABX9TyMt8CBBOLZOspqp08fMCLeo",
      "include_colab_link": true
    },
    "kernelspec": {
      "name": "python3",
      "display_name": "Python 3"
    },
    "language_info": {
      "name": "python"
    }
  },
  "cells": [
    {
      "cell_type": "markdown",
      "metadata": {
        "id": "view-in-github",
        "colab_type": "text"
      },
      "source": [
        "<a href=\"https://colab.research.google.com/github/ritikkumar01111999/wipro_nlth_internship_questions/blob/main/odd_even.ipynb\" target=\"_parent\"><img src=\"https://colab.research.google.com/assets/colab-badge.svg\" alt=\"Open In Colab\"/></a>"
      ]
    },
    {
      "cell_type": "code",
      "execution_count": 2,
      "metadata": {
        "colab": {
          "base_uri": "https://localhost:8080/"
        },
        "id": "2ttfLL35Nx0Q",
        "outputId": "681831f0-d34c-48bf-edab-b0837e1ecbf6"
      },
      "outputs": [
        {
          "output_type": "stream",
          "name": "stdout",
          "text": [
            "enter here your number:-54\n",
            "number is even\n",
            "None\n"
          ]
        }
      ],
      "source": [
        "#check the number is even or odd\n",
        "def check(a):\n",
        "  if a%2==0:\n",
        "    print('number is even')\n",
        "  else:\n",
        "    print('number is odd')\n",
        "\n",
        "\n",
        "if __name__ == \"__main__\":\n",
        "  a=int(input('enter here your number:-'))\n",
        "  print(check(a))"
      ]
    }
  ]
}