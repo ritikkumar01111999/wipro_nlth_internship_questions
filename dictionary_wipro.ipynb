{
  "nbformat": 4,
  "nbformat_minor": 0,
  "metadata": {
    "colab": {
      "name": "dictionary_wipro.ipynb",
      "provenance": [],
      "authorship_tag": "ABX9TyPq/zVVu+NvUusv1Wv5m/UC",
      "include_colab_link": true
    },
    "kernelspec": {
      "name": "python3",
      "display_name": "Python 3"
    },
    "language_info": {
      "name": "python"
    }
  },
  "cells": [
    {
      "cell_type": "markdown",
      "metadata": {
        "id": "view-in-github",
        "colab_type": "text"
      },
      "source": [
        "<a href=\"https://colab.research.google.com/github/ritikkumar01111999/wipro_nlth_internship_questions/blob/main/dictionary_wipro.ipynb\" target=\"_parent\"><img src=\"https://colab.research.google.com/assets/colab-badge.svg\" alt=\"Open In Colab\"/></a>"
      ]
    },
    {
      "cell_type": "code",
      "execution_count": null,
      "metadata": {
        "colab": {
          "base_uri": "https://localhost:8080/"
        },
        "id": "kBOrIbAnH168",
        "outputId": "b6542ee6-7537-4c3c-c2c4-0710c475b246"
      },
      "outputs": [
        {
          "output_type": "execute_result",
          "data": {
            "text/plain": [
              "{0: 10, 1: 20, 2: 30}"
            ]
          },
          "metadata": {},
          "execution_count": 9
        }
      ],
      "source": [
        "#write a program to add a key and a value to a dictionary \n",
        "\n",
        "sample_Dictionary={0:10,1:20}\n",
        "sample_Dictionary.update({2:30})\n",
        "sample_Dictionary"
      ]
    },
    {
      "cell_type": "code",
      "source": [
        "#write a program to concatenate the following dictionaries to create a new one \n",
        "dict1={1:10,2:20}\n",
        "dict2={3:30,4:40}\n",
        "dict3={5:50,6:60}\n",
        "dict1.update(dict2)\n",
        "dict1.update(dict3)\n",
        "dict1"
      ],
      "metadata": {
        "colab": {
          "base_uri": "https://localhost:8080/"
        },
        "id": "EDuXTKS2Iopf",
        "outputId": "48027233-e416-412f-8ce1-6e5bc6d4228c"
      },
      "execution_count": null,
      "outputs": [
        {
          "output_type": "execute_result",
          "data": {
            "text/plain": [
              "{1: 10, 2: 20, 3: 30, 4: 40, 5: 50, 6: 60}"
            ]
          },
          "metadata": {},
          "execution_count": 15
        }
      ]
    },
    {
      "cell_type": "code",
      "source": [
        "#write a program to check the given key already present in the dictionary\n",
        "d={'A':1,'B':2,'C':3}\n",
        "key=input(\"Enter key to check:\")\n",
        "if key in d.keys():\n",
        "      print(\"Key is present and value of the key is:\")\n",
        "      print(d[key])\n",
        "else:\n",
        "      print(\"Key isn't present!\")"
      ],
      "metadata": {
        "colab": {
          "base_uri": "https://localhost:8080/"
        },
        "id": "R2ks8FfHJN51",
        "outputId": "b2e6919f-e935-4df1-e84f-99bf6f082e1f"
      },
      "execution_count": null,
      "outputs": [
        {
          "output_type": "stream",
          "name": "stdout",
          "text": [
            "Enter key to check:A\n",
            "Key is present and value of the key is:\n",
            "1\n"
          ]
        }
      ]
    },
    {
      "cell_type": "code",
      "source": [
        "#write a program to iterate over a dictionary using for loop and print the key alone ,value alone and both key and value alone \n",
        "data = {'a': 'apple', 'b': 'doll', 'c': 'cat','d': 'dog'}\n",
        "\n",
        "\n",
        "print('iterating for keys')\n",
        "for key in data:\n",
        "    print(key)\n",
        "\n",
        "print('iterating for values')\n",
        "for value in data.values():\n",
        "    print(value)\n",
        "\n",
        "print('iterating for kays and values') \n",
        "for key in data:\n",
        "    print(key,data[key])"
      ],
      "metadata": {
        "colab": {
          "base_uri": "https://localhost:8080/"
        },
        "id": "t7Nz6rOaKVRL",
        "outputId": "0e585cdf-cc46-4a23-e5d7-92218845cf95"
      },
      "execution_count": null,
      "outputs": [
        {
          "output_type": "stream",
          "name": "stdout",
          "text": [
            "iterating for keys\n",
            "a\n",
            "b\n",
            "c\n",
            "d\n",
            "iterating for values\n",
            "apple\n",
            "doll\n",
            "cat\n",
            "dog\n",
            "iterating for kays and values\n",
            "a apple\n",
            "b doll\n",
            "c cat\n",
            "d dog\n"
          ]
        }
      ]
    },
    {
      "cell_type": "code",
      "source": [
        "#write a program to prepare a dictionary where the keys are number between 1 and 15 and values are square of the keys\n",
        "d=dict()\n",
        "for x in range(1,16):\n",
        "    d[x]=x**2\n",
        "print(d) \n"
      ],
      "metadata": {
        "colab": {
          "base_uri": "https://localhost:8080/"
        },
        "id": "I5IOv2OxMMF5",
        "outputId": "0514f367-9e99-43d0-fb96-b94bbb437036"
      },
      "execution_count": null,
      "outputs": [
        {
          "output_type": "stream",
          "name": "stdout",
          "text": [
            "{1: 1, 2: 4, 3: 9, 4: 16, 5: 25, 6: 36, 7: 49, 8: 64, 9: 81, 10: 100, 11: 121, 12: 144, 13: 169, 14: 196, 15: 225}\n"
          ]
        }
      ]
    },
    {
      "cell_type": "code",
      "source": [
        "#write a program to add all the values in the dictionary, considering the value will be of int type\n",
        "my_dict = {'a':102,'b':501,'c':112}\n",
        "print(sum(my_dict.values()))\n",
        "\n"
      ],
      "metadata": {
        "colab": {
          "base_uri": "https://localhost:8080/"
        },
        "id": "TELQrISZPD8U",
        "outputId": "d6091a70-4382-4045-c83c-4570998e4581"
      },
      "execution_count": null,
      "outputs": [
        {
          "output_type": "stream",
          "name": "stdout",
          "text": [
            "715\n"
          ]
        }
      ]
    },
    {
      "cell_type": "code",
      "source": [
        ""
      ],
      "metadata": {
        "id": "2IGjfYWNP1q9"
      },
      "execution_count": null,
      "outputs": []
    }
  ]
}