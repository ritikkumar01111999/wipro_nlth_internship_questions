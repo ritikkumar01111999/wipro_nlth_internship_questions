{
  "nbformat": 4,
  "nbformat_minor": 0,
  "metadata": {
    "colab": {
      "name": "list_wipro.ipynb",
      "provenance": [],
      "authorship_tag": "ABX9TyMp4L0DdZgqfjk8jMDXxx1f",
      "include_colab_link": true
    },
    "kernelspec": {
      "name": "python3",
      "display_name": "Python 3"
    },
    "language_info": {
      "name": "python"
    }
  },
  "cells": [
    {
      "cell_type": "markdown",
      "metadata": {
        "id": "view-in-github",
        "colab_type": "text"
      },
      "source": [
        "<a href=\"https://colab.research.google.com/github/ritikkumar01111999/wipro_nlth_internship_questions/blob/main/list_wipro.ipynb\" target=\"_parent\"><img src=\"https://colab.research.google.com/assets/colab-badge.svg\" alt=\"Open In Colab\"/></a>"
      ]
    },
    {
      "cell_type": "code",
      "execution_count": 41,
      "metadata": {
        "colab": {
          "base_uri": "https://localhost:8080/"
        },
        "id": "S1rd77BU0j_O",
        "outputId": "2ef37125-5be5-48d8-b69a-e2d580affc77"
      },
      "outputs": [
        {
          "output_type": "stream",
          "name": "stdout",
          "text": [
            "1 2 3 4 5 \n",
            " access the list individually\n",
            "1\n",
            "2\n",
            "3\n",
            "4\n",
            "5\n"
          ]
        }
      ],
      "source": [
        "#write a program to create a list of 5 intergers and display the list items. Access individual elements through index\n",
        "\n",
        "list1=[1,2,3,4,5]\n",
        "for i in list1:\n",
        "  print(i,end=\" \")\n",
        "\n",
        "#access the list individually\n",
        "print('\\n access the list individually')\n",
        "print(list1[0])\n",
        "print(list1[1])\n",
        "print(list1[2])\n",
        "print(list1[3])\n",
        "print(list1[4])"
      ]
    },
    {
      "cell_type": "code",
      "source": [
        "#write aprogram to append a new item to the end of the list \n",
        "\n",
        "list2=[1,2,3,4,5]\n",
        "\n",
        "list2.append(6)\n",
        "\n",
        "print('after apppending 6 in list2 we will get',list2)"
      ],
      "metadata": {
        "colab": {
          "base_uri": "https://localhost:8080/"
        },
        "id": "bfFFHhr92Ff9",
        "outputId": "7cc01242-7709-4b3f-ede8-27ce117b9fda"
      },
      "execution_count": 42,
      "outputs": [
        {
          "output_type": "stream",
          "name": "stdout",
          "text": [
            "after apppending 6 in list2 we will get [1, 2, 3, 4, 5, 6]\n"
          ]
        }
      ]
    },
    {
      "cell_type": "code",
      "source": [
        "#write a program to reverse the order of the items in the list\n",
        "\n",
        "fruits = ['apple', 'banana', 'cherry']\n",
        "\n",
        "fruits.reverse()\n",
        "\n",
        "print(fruits)\n",
        "  "
      ],
      "metadata": {
        "colab": {
          "base_uri": "https://localhost:8080/"
        },
        "id": "p5P_4CWt3HuL",
        "outputId": "1b535aa8-aded-4fda-e13a-5921b9de76f9"
      },
      "execution_count": 43,
      "outputs": [
        {
          "output_type": "stream",
          "name": "stdout",
          "text": [
            "['cherry', 'banana', 'apple']\n"
          ]
        }
      ]
    },
    {
      "cell_type": "code",
      "source": [
        "#write a program to print the number ooccurence of a specofied element in the list \n",
        "\n",
        "list4=[1,2,3,4,5,6,7,8,9,1,2,3,4,5,6,7,8,9,1,2,3,4,5,6,7,8,9]\n",
        "def check(a):\n",
        "  matched=0\n",
        "  for i in list4:\n",
        "    if i==a:\n",
        "      matched=matched+1\n",
        "  print(a,\" occured \",matched,\" times in list3\")\n",
        "\n",
        "a=int(input('enter the number you want to check:'))\n",
        "check(a)"
      ],
      "metadata": {
        "colab": {
          "base_uri": "https://localhost:8080/"
        },
        "id": "W7-HRFbW3KHc",
        "outputId": "9725dcbc-7763-4e0e-e376-678fc72eac0f"
      },
      "execution_count": 44,
      "outputs": [
        {
          "output_type": "stream",
          "name": "stdout",
          "text": [
            "enter the number you want to check:2\n",
            "2  occured  3  times in list3\n"
          ]
        }
      ]
    },
    {
      "cell_type": "code",
      "source": [
        "#write a program to append items from list1 to list 2  in the front \n",
        "\n",
        "\n",
        "list5=[1,2,3,4,5]\n",
        "list6=[6,7,8,9]\n",
        "print(\"after appending in the front th list will look like something like this \",list6+list5)"
      ],
      "metadata": {
        "colab": {
          "base_uri": "https://localhost:8080/"
        },
        "id": "oCNmZzIm7iQR",
        "outputId": "0649eb18-3ab0-44c3-c76d-c8dd15e4e153"
      },
      "execution_count": 45,
      "outputs": [
        {
          "output_type": "stream",
          "name": "stdout",
          "text": [
            "after appending in the front th list will look like something like this  [6, 7, 8, 9, 1, 2, 3, 4, 5]\n"
          ]
        }
      ]
    },
    {
      "cell_type": "code",
      "source": [
        "#write a program to insert a new item before the second element in the existing list \n",
        "\n",
        "list7=[1,2,3,4,5,6]\n",
        "list7.insert(1, 7)\n",
        "list7"
      ],
      "metadata": {
        "colab": {
          "base_uri": "https://localhost:8080/"
        },
        "id": "x6wJiWTz8ikK",
        "outputId": "d9297fa4-536f-40d4-8f80-2dd6d93d8065"
      },
      "execution_count": 52,
      "outputs": [
        {
          "output_type": "execute_result",
          "data": {
            "text/plain": [
              "[1, 7, 2, 3, 4, 5, 6]"
            ]
          },
          "metadata": {},
          "execution_count": 52
        }
      ]
    },
    {
      "cell_type": "code",
      "source": [
        "#write a program to remove the element from a specified index\n",
        "list8=[1,2,3,4,5,6]\n",
        "\n",
        "a=int(input('enter the specified index'))\n",
        "list8.remove(list8[a])\n",
        "list8"
      ],
      "metadata": {
        "colab": {
          "base_uri": "https://localhost:8080/"
        },
        "id": "VWPHDcPr8nv1",
        "outputId": "4a7ee30a-d23e-445d-a6bd-d833f66bdb03"
      },
      "execution_count": 53,
      "outputs": [
        {
          "name": "stdout",
          "output_type": "stream",
          "text": [
            "enter the specified index2\n"
          ]
        }
      ]
    },
    {
      "cell_type": "code",
      "source": [
        "#write a progam to remove the first occurence of a specified element form the list \n",
        "# Declaring a list\n",
        "list = [10, 20, 30, 40, 30]\n",
        "\n",
        "# print list \n",
        "print(\"List element:\")\n",
        "for l in range(len(list)):\n",
        "\tprint (list[l])\n",
        "\n",
        "# removing 30 from the list \n",
        "list.remove(30);\n",
        "\n",
        "# print list after removing 30\n",
        "print(\"List element after removing 30:\")\n",
        "for l in range(len(list)):\n",
        "\tprint (list[l])"
      ],
      "metadata": {
        "colab": {
          "base_uri": "https://localhost:8080/"
        },
        "id": "QhrKN-_d_cg-",
        "outputId": "d5cf6c47-78fc-45aa-f1b8-080e3f1ec0ed"
      },
      "execution_count": 55,
      "outputs": [
        {
          "output_type": "stream",
          "name": "stdout",
          "text": [
            "List element:\n",
            "10\n",
            "20\n",
            "30\n",
            "40\n",
            "30\n",
            "List element after removing 30:\n",
            "10\n",
            "20\n",
            "40\n",
            "30\n"
          ]
        }
      ]
    },
    {
      "cell_type": "code",
      "source": [
        ""
      ],
      "metadata": {
        "id": "06hNrk3FAvpx"
      },
      "execution_count": null,
      "outputs": []
    }
  ]
}