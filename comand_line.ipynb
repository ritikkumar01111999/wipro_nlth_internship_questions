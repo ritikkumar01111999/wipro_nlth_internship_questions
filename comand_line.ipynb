{
  "nbformat": 4,
  "nbformat_minor": 0,
  "metadata": {
    "colab": {
      "name": "comand_line.ipynb",
      "provenance": [],
      "collapsed_sections": [],
      "authorship_tag": "ABX9TyPS+2Q8/Z8BZwGeIIj8kR/I",
      "include_colab_link": true
    },
    "kernelspec": {
      "name": "python3",
      "display_name": "Python 3"
    },
    "language_info": {
      "name": "python"
    }
  },
  "cells": [
    {
      "cell_type": "markdown",
      "metadata": {
        "id": "view-in-github",
        "colab_type": "text"
      },
      "source": [
        "<a href=\"https://colab.research.google.com/github/ritikkumar01111999/wipro_nlth_internship_questions/blob/main/comand_line.ipynb\" target=\"_parent\"><img src=\"https://colab.research.google.com/assets/colab-badge.svg\" alt=\"Open In Colab\"/></a>"
      ]
    },
    {
      "cell_type": "code",
      "source": [
        "#write a program to read the entire content fron a txt file  and display it to the user \n",
        "a=str(input(\"wipro_python_fundamentals.txt\"))\n",
        "file2=open(a,'r')\n",
        "line=file2.readline()\n",
        "while(line!=\"\"):\n",
        "    print(line)\n",
        "    line=file2.readline()\n",
        "file2.close()"
      ],
      "metadata": {
        "id": "b_a5c0J06kUB"
      },
      "execution_count": null,
      "outputs": []
    },
    {
      "cell_type": "code",
      "source": [
        "#write a program to read first n lines from a txt file . get n as use input\n",
        "\n",
        "N = int(input(\"enter the number of line you want to print\"))\n",
        "with open(\"wipro_python_fundamentals.txt\", \"a\") as file:  # the a opens it in append mode\n",
        "    for i in range(N):\n",
        "        line = next(file).strip()\n",
        "        print(line)\n"
      ],
      "metadata": {
        "id": "XYyLs9uw79TH"
      },
      "execution_count": null,
      "outputs": []
    },
    {
      "cell_type": "code",
      "source": [
        "# write a program to read the content of a txt file line by line and store the each line into the each list.\n",
        "with open(\"wipro_python_fundamentals.txt\") as file_in:\n",
        "    lines = []\n",
        "    for line in file_in:\n",
        "        lines.append(line.strip('\\n'))\n",
        "    print(lines)"
      ],
      "metadata": {
        "id": "-JOYc31j84iY"
      },
      "execution_count": null,
      "outputs": []
    },
    {
      "cell_type": "code",
      "source": [
        "# write a program to find the longest word fromt he text file content , assuming that the file will be have only one longestt word in it.\n",
        "def longest_words(filename):\n",
        "    with open(filename, 'r') as infile:\n",
        "        words = infile.read().split()\n",
        "    max_len = len(max(words, key=len))\n",
        "    return [word for word in words if len(word) == max_len]\n",
        " \n",
        "print(longest_words('wipro_python_fundamentals.txt'))"
      ],
      "metadata": {
        "id": "jviRKfz2-sSO"
      },
      "execution_count": null,
      "outputs": []
    },
    {
      "cell_type": "code",
      "source": [
        "#write aprogram to take input from the user and append it into the txt file \n",
        "input=input('enter the line :-')\n",
        "file1 = open(\"myfile.txt\", \"a\")  \n",
        "file1.write(input)\n",
        "file1.close()"
      ],
      "metadata": {
        "id": "RQnO42fA_Y5Z"
      },
      "execution_count": null,
      "outputs": []
    },
    {
      "cell_type": "code",
      "source": [
        "# write a program to count the frequency of user entered word in txt file\n",
        "text = open(\"sample.txt\", \"r\")\n",
        "  \n",
        "# Create an empty dictionary\n",
        "d = dict()\n",
        "  \n",
        "# Loop through each line of the file\n",
        "for line in text:\n",
        "    # Remove the leading spaces and newline character\n",
        "    line = line.strip()\n",
        "  \n",
        "    # Convert the characters in line to \n",
        "    # lowercase to avoid case mismatch\n",
        "    line = line.lower()\n",
        "  \n",
        "    # Split the line into words\n",
        "    words = line.split(\" \")\n",
        "  \n",
        "    # Iterate over each word in line\n",
        "    for word in words:\n",
        "        # Check if the word is already in dictionary\n",
        "        if word in d:\n",
        "            # Increment count of word by 1\n",
        "            d[word] = d[word] + 1\n",
        "        else:\n",
        "            # Add the word to dictionary with count 1\n",
        "            d[word] = 1\n",
        "  \n",
        "# Print the contents of dictionary\n",
        "for key in list(d.keys()):\n",
        "    print(key, \":\", d[key])"
      ],
      "metadata": {
        "id": "-PINjT-ZBJeV"
      },
      "execution_count": null,
      "outputs": []
    }
  ]
}