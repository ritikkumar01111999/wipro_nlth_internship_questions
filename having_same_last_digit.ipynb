{
  "nbformat": 4,
  "nbformat_minor": 0,
  "metadata": {
    "colab": {
      "name": "having_same_last_digit.ipynb",
      "provenance": [],
      "collapsed_sections": [],
      "authorship_tag": "ABX9TyMvSXXZrD1WQvK4LfYPRG+Q",
      "include_colab_link": true
    },
    "kernelspec": {
      "name": "python3",
      "display_name": "Python 3"
    },
    "language_info": {
      "name": "python"
    }
  },
  "cells": [
    {
      "cell_type": "markdown",
      "metadata": {
        "id": "view-in-github",
        "colab_type": "text"
      },
      "source": [
        "<a href=\"https://colab.research.google.com/github/ritikkumar01111999/wipro_nlth_internship_questions/blob/main/having_same_last_digit.ipynb\" target=\"_parent\"><img src=\"https://colab.research.google.com/assets/colab-badge.svg\" alt=\"Open In Colab\"/></a>"
      ]
    },
    {
      "cell_type": "code",
      "execution_count": 3,
      "metadata": {
        "colab": {
          "base_uri": "https://localhost:8080/"
        },
        "id": "2ttfLL35Nx0Q",
        "outputId": "e2d1d8d4-304e-457a-810d-ca8c55f163e3"
      },
      "outputs": [
        {
          "output_type": "stream",
          "name": "stdout",
          "text": [
            "enter here your number:-64\n",
            "enter he second number:-24\n",
            "having same last number\n",
            "None\n"
          ]
        }
      ],
      "source": [
        "#check the numbers having same last digit\n",
        "def check(a,b):\n",
        "  if a%10==b%10:\n",
        "    print('having same last number')\n",
        "  else:\n",
        "    print('having not same last number')\n",
        "\n",
        "\n",
        "\n",
        "\n",
        "if __name__ == \"__main__\":\n",
        "  a=int(input('enter here your number:-'))\n",
        "  b=int(input('enter he second number:-'))\n",
        "  print(check(a,b))"
      ]
    }
  ]
}