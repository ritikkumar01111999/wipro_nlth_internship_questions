{
  "nbformat": 4,
  "nbformat_minor": 0,
  "metadata": {
    "colab": {
      "name": "set_wipro.ipynb",
      "provenance": [],
      "authorship_tag": "ABX9TyOSsUsRPpnJw6Qz6DxaiPNw",
      "include_colab_link": true
    },
    "kernelspec": {
      "name": "python3",
      "display_name": "Python 3"
    },
    "language_info": {
      "name": "python"
    }
  },
  "cells": [
    {
      "cell_type": "markdown",
      "metadata": {
        "id": "view-in-github",
        "colab_type": "text"
      },
      "source": [
        "<a href=\"https://colab.research.google.com/github/ritikkumar01111999/wipro_nlth_internship_questions/blob/main/set_wipro.ipynb\" target=\"_parent\"><img src=\"https://colab.research.google.com/assets/colab-badge.svg\" alt=\"Open In Colab\"/></a>"
      ]
    },
    {
      "cell_type": "code",
      "execution_count": 3,
      "metadata": {
        "colab": {
          "base_uri": "https://localhost:8080/"
        },
        "id": "qyixVqk-YZjU",
        "outputId": "8846bf66-3eae-4286-8e29-e65d19b8f3d5"
      },
      "outputs": [
        {
          "output_type": "stream",
          "name": "stdout",
          "text": [
            "enter the element want to remove:-0\n",
            "after removing element:- {1, 2, 3, 4, 5}\n"
          ]
        }
      ],
      "source": [
        "#write a program to remove a given item from the set\n",
        "#Create a new set\n",
        "num_set = set([0, 1, 2, 3, 4, 5])\n",
        "a=int(input('enter the element want to remove:-'))\n",
        "if a in num_set:\n",
        "  num_set.discard(a)\n",
        "print(\"after removing element:-\",num_set)"
      ]
    },
    {
      "cell_type": "code",
      "source": [
        "#write a program to create intersection of sets.\n",
        "A = {2, 3, 5}\n",
        "B = {1, 3, 5}\n",
        "\n",
        "# compute intersection between A and B\n",
        "print(A.intersection(B))"
      ],
      "metadata": {
        "colab": {
          "base_uri": "https://localhost:8080/"
        },
        "id": "SznCnd1CZf_n",
        "outputId": "af31cecf-5da3-4332-9a30-af7341d6ab8d"
      },
      "execution_count": 4,
      "outputs": [
        {
          "output_type": "stream",
          "name": "stdout",
          "text": [
            "{3, 5}\n"
          ]
        }
      ]
    },
    {
      "cell_type": "code",
      "source": [
        "#write a program to create an union of the set\n",
        "set1 = set([1, 1, 2, 3, 4, 5])\n",
        "set2 = set([1, 5, 6, 7, 8, 9])\n",
        "print(\"\\nOriginal sets:\")\n",
        "print(set1)\n",
        "print(set2)\n",
        "print(\"\\nUnion of above sets:\")\n",
        "setn = set1.union(set2)\n",
        "print(setn)"
      ],
      "metadata": {
        "colab": {
          "base_uri": "https://localhost:8080/"
        },
        "id": "8-hY7ASmZmo4",
        "outputId": "605f5a2b-6076-4b86-d1ad-6f8c1c9bb109"
      },
      "execution_count": 6,
      "outputs": [
        {
          "output_type": "stream",
          "name": "stdout",
          "text": [
            "\n",
            "Original sets:\n",
            "{1, 2, 3, 4, 5}\n",
            "{1, 5, 6, 7, 8, 9}\n",
            "\n",
            "Union of above sets:\n",
            "{1, 2, 3, 4, 5, 6, 7, 8, 9}\n"
          ]
        }
      ]
    },
    {
      "cell_type": "code",
      "source": [
        "#write a program to find maximum and the minimum of the set\n",
        "#Create a set\n",
        "setn = {5, 10, 3, 15, 2, 20}\n",
        "print(\"Original set elements:\")\n",
        "print(setn)\n",
        "print(type(setn))\n",
        "print(\"\\nMaximum value of the said set:\")\n",
        "print(max(setn))\n",
        "print(\"\\nMinimum value of the said set:\")\n",
        "print(min(setn))"
      ],
      "metadata": {
        "colab": {
          "base_uri": "https://localhost:8080/"
        },
        "id": "n9IySlXUaO4s",
        "outputId": "e62900ba-3aa5-4bc6-f89b-4a95e5b5736d"
      },
      "execution_count": 7,
      "outputs": [
        {
          "output_type": "stream",
          "name": "stdout",
          "text": [
            "Original set elements:\n",
            "{2, 3, 5, 10, 15, 20}\n",
            "<class 'set'>\n",
            "\n",
            "Maximum value of the said set:\n",
            "20\n",
            "\n",
            "Minimum value of the said set:\n",
            "2\n"
          ]
        }
      ]
    },
    {
      "cell_type": "code",
      "source": [
        ""
      ],
      "metadata": {
        "id": "Ni8Aild8bHMd"
      },
      "execution_count": null,
      "outputs": []
    }
  ]
}