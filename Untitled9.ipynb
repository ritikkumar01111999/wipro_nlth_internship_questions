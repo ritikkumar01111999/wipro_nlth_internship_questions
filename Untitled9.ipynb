{
  "nbformat": 4,
  "nbformat_minor": 0,
  "metadata": {
    "colab": {
      "name": "Untitled9.ipynb",
      "provenance": [],
      "authorship_tag": "ABX9TyOCsuBASfR6SaPrYqpWh79w",
      "include_colab_link": true
    },
    "kernelspec": {
      "name": "python3",
      "display_name": "Python 3"
    },
    "language_info": {
      "name": "python"
    }
  },
  "cells": [
    {
      "cell_type": "markdown",
      "metadata": {
        "id": "view-in-github",
        "colab_type": "text"
      },
      "source": [
        "<a href=\"https://colab.research.google.com/github/ritikkumar01111999/wipro_nlth_internship_questions/blob/main/Untitled9.ipynb\" target=\"_parent\"><img src=\"https://colab.research.google.com/assets/colab-badge.svg\" alt=\"Open In Colab\"/></a>"
      ]
    },
    {
      "cell_type": "code",
      "source": [
        "#Write a program to accept two numbers from the user and perform division. If any exception occurs, print an error message or else print the result.\n",
        "try:\n",
        "    a=int(input('enter the first number:-'))\n",
        "    b=int(input('enter the second number:-'))\n",
        "    c=a/b\n",
        "    print('divions of two numbers resulted:-',c)\n",
        "except:\n",
        "    print('Some error occurred.')\n",
        "print(\"Out of try except blocks.\")"
      ],
      "metadata": {
        "colab": {
          "base_uri": "https://localhost:8080/"
        },
        "id": "DMwPsD6pGabs",
        "outputId": "9719a4dc-1690-4636-a17b-3254a61044f6"
      },
      "execution_count": 1,
      "outputs": [
        {
          "output_type": "stream",
          "name": "stdout",
          "text": [
            "enter the first number:-5\n",
            "enter the second number:-10\n",
            "divions of two numbers resulted:- 0.5\n",
            "Out of try except blocks.\n"
          ]
        }
      ]
    },
    {
      "cell_type": "code",
      "source": [
        "#Write a program to accept a number from the user and check whether it's prime or not. If user enters anything other than number, handle the exception and print an error message.\n",
        "# To take input from the user\n",
        "\n",
        "try:\n",
        "     \n",
        "  num = int(input(\"Enter a number: \"))\n",
        "  if type(num) == int or float:\n",
        "\n",
        "    # define a flag variable\n",
        "    flag = False\n",
        "\n",
        "    # prime numbers are greater than 1\n",
        "    if num > 1:\n",
        "        # check for factors\n",
        "        for i in range(2, num):\n",
        "            if (num % i) == 0:\n",
        "                # if factor is found, set flag to True\n",
        "                flag = True\n",
        "                # break out of loop\n",
        "                break\n",
        "\n",
        "    # check if flag is True\n",
        "    if flag:\n",
        "        print(num, \"is not a prime number\")\n",
        "    else:\n",
        "        print(num, \"is a prime number\")\n",
        "\n",
        "except:\n",
        "  print('is not a number')"
      ],
      "metadata": {
        "colab": {
          "base_uri": "https://localhost:8080/"
        },
        "id": "9PuShrxXSl4P",
        "outputId": "211467e8-0439-44c0-f6a9-004e3050f382"
      },
      "execution_count": 7,
      "outputs": [
        {
          "output_type": "stream",
          "name": "stdout",
          "text": [
            "Enter a number: a\n",
            "is not a number\n"
          ]
        }
      ]
    },
    {
      "cell_type": "code",
      "source": [
        "#Write a program to accept the file name to be opened from the user, if file exist print the contents of the file in title case or else handle the exception and print an error message.\n"
      ],
      "metadata": {
        "id": "W0cocD3yS5uR"
      },
      "execution_count": 6,
      "outputs": []
    },
    {
      "cell_type": "code",
      "source": [
        "#declare a list with 10 integers and ask the user to enter an index. Check whether the number in that index is positive or negative number. If any invalid index is entered, handle the exception and print an error message.\n",
        "\n",
        "num=[1,-2,3,4,5,6,7,8,9,10]\n",
        "a=int(input('enter the index'))\n",
        "index=num[a]\n",
        "try:\n",
        "  if index>0:\n",
        "    print('the number is positive:-',index)\n",
        "  else:\n",
        "    print('the number is negative')\n",
        "except:\n",
        "  print('number is negative')\n"
      ],
      "metadata": {
        "colab": {
          "base_uri": "https://localhost:8080/"
        },
        "id": "J3mkEH2zY2_X",
        "outputId": "dc40f72d-2200-48d0-fb84-feb9f2cb112a"
      },
      "execution_count": 16,
      "outputs": [
        {
          "output_type": "stream",
          "name": "stdout",
          "text": [
            "enter the index1\n",
            "the number is negative\n"
          ]
        }
      ]
    },
    {
      "cell_type": "code",
      "source": [
        "num\n",
        "7"
      ],
      "metadata": {
        "colab": {
          "base_uri": "https://localhost:8080/"
        },
        "id": "209kniihZbQ9",
        "outputId": "d1588fc0-bddd-43e5-fe8b-68656884f21c"
      },
      "execution_count": 12,
      "outputs": [
        {
          "output_type": "execute_result",
          "data": {
            "text/plain": [
              "7"
            ]
          },
          "metadata": {},
          "execution_count": 12
        }
      ]
    },
    {
      "cell_type": "code",
      "source": [
        ""
      ],
      "metadata": {
        "id": "nBc2LiwLZ5NU"
      },
      "execution_count": null,
      "outputs": []
    }
  ]
}