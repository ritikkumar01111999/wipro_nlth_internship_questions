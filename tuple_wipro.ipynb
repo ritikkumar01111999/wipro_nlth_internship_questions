{
  "nbformat": 4,
  "nbformat_minor": 0,
  "metadata": {
    "colab": {
      "name": "tuple_wipro.ipynb",
      "provenance": [],
      "authorship_tag": "ABX9TyOLeP7Bp+t7KZ5kAD4lf7J0",
      "include_colab_link": true
    },
    "kernelspec": {
      "name": "python3",
      "display_name": "Python 3"
    },
    "language_info": {
      "name": "python"
    }
  },
  "cells": [
    {
      "cell_type": "markdown",
      "metadata": {
        "id": "view-in-github",
        "colab_type": "text"
      },
      "source": [
        "<a href=\"https://colab.research.google.com/github/ritikkumar01111999/wipro_nlth_internship_questions/blob/main/tuple_wipro.ipynb\" target=\"_parent\"><img src=\"https://colab.research.google.com/assets/colab-badge.svg\" alt=\"Open In Colab\"/></a>"
      ]
    },
    {
      "cell_type": "code",
      "execution_count": 2,
      "metadata": {
        "colab": {
          "base_uri": "https://localhost:8080/"
        },
        "id": "d1uI5umXSJoU",
        "outputId": "4126911e-13a1-4ddd-afbb-e133d8394dfb"
      },
      "outputs": [
        {
          "output_type": "stream",
          "name": "stdout",
          "text": [
            "('w', 3, 'r', 'e', 's', 'o', 'u', 'r', 'c', 'e')\n",
            "u\n"
          ]
        }
      ],
      "source": [
        "#write a program to print the 4th element from the last in a tuple.\n",
        "\n",
        "#Get an item of the tuple\n",
        "tuplex = (\"w\", 3, \"r\", \"e\", \"s\", \"o\", \"u\", \"r\", \"c\", \"e\")\n",
        "print(tuplex)\n",
        "#Get item (4th element from last)\n",
        "item1 = tuplex[-4]\n",
        "print(item1)"
      ]
    },
    {
      "cell_type": "code",
      "source": [
        "#write a program to check weather the element exist int he tuple or not\n",
        "\n",
        "tuplex = (\"w\",  \"r\", \"e\", \"s\", \"o\", \"u\", \"r\", \"c\", \"e\")\n",
        "a=input('enter the value to check:-')\n",
        "\n",
        "if a in tuplex:\n",
        "  print('yes value is present')\n",
        "else:\n",
        "  print('value is not present')"
      ],
      "metadata": {
        "colab": {
          "base_uri": "https://localhost:8080/"
        },
        "id": "Fa2YfHCoS8IL",
        "outputId": "b6225f4d-151f-4012-875e-4d724e51e788"
      },
      "execution_count": 4,
      "outputs": [
        {
          "output_type": "stream",
          "name": "stdout",
          "text": [
            "enter the value to check:-w\n",
            "yes value is present\n"
          ]
        }
      ]
    },
    {
      "cell_type": "code",
      "source": [
        "#write a program to convert a list into tuple\n",
        "list1=[24 ,26 ,28 ,30 ,32 ,34 ,36 ,38 ,40 ,42 ,44 ,46 ,48 ,50 ,52 ,54 ,56]\n",
        "tuple2=tuple(list1)\n",
        "\n",
        "print(\"converted tuple is :-\",tuple2)\n"
      ],
      "metadata": {
        "colab": {
          "base_uri": "https://localhost:8080/"
        },
        "id": "feBpQvcrTylL",
        "outputId": "47948f8d-98b9-4a8e-d510-130f55513e56"
      },
      "execution_count": 7,
      "outputs": [
        {
          "output_type": "stream",
          "name": "stdout",
          "text": [
            "converted tuple is :- (24, 26, 28, 30, 32, 34, 36, 38, 40, 42, 44, 46, 48, 50, 52, 54, 56)\n"
          ]
        }
      ]
    },
    {
      "cell_type": "code",
      "source": [
        "#write a program to find index of an item in a tuple\n",
        "# vowels tuple\n",
        "vowels = ('a', 'e', 'i', 'o', 'i', 'u')\n",
        "\n",
        "# index of 'e' in vowels\n",
        "index = vowels.index('e')\n",
        "print('The index of e:', index)\n",
        "\n",
        "# element 'i' is searched\n",
        "# index of the first 'i' is returned\n",
        "index = vowels.index('i')\n",
        "\n",
        "print('The index of i:', index)"
      ],
      "metadata": {
        "colab": {
          "base_uri": "https://localhost:8080/"
        },
        "id": "e2SzhBbVXACj",
        "outputId": "1f77aec9-8aca-438a-ee56-81216ce6fd71"
      },
      "execution_count": 10,
      "outputs": [
        {
          "output_type": "stream",
          "name": "stdout",
          "text": [
            "The index of e: 1\n",
            "The index of i: 2\n"
          ]
        }
      ]
    },
    {
      "cell_type": "code",
      "source": [
        "#write a program to replace last value of tuples in a list to 100\n",
        "tuple2=[(10,20,30),(40,50,60),(70,80,90)]\n",
        "print([t[:-1] + (100,) for t in tuple2])\n"
      ],
      "metadata": {
        "colab": {
          "base_uri": "https://localhost:8080/"
        },
        "id": "mKGHDKWlUM9U",
        "outputId": "4cd53fce-2627-4a7a-bf76-abc0f0d36cc7"
      },
      "execution_count": 9,
      "outputs": [
        {
          "output_type": "stream",
          "name": "stdout",
          "text": [
            "[(10, 20, 100), (40, 50, 100), (70, 80, 100)]\n"
          ]
        }
      ]
    },
    {
      "cell_type": "code",
      "source": [
        ""
      ],
      "metadata": {
        "id": "oPQUpvG8UPju"
      },
      "execution_count": null,
      "outputs": []
    }
  ]
}